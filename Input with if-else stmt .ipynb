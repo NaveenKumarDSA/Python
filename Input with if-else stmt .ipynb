{
 "cells": [
  {
   "cell_type": "code",
   "execution_count": 1,
   "id": "f401f9e2",
   "metadata": {},
   "outputs": [
    {
     "name": "stdout",
     "output_type": "stream",
     "text": [
      "Enter a Number50\n",
      "in\n"
     ]
    }
   ],
   "source": [
    "# Working with Control flow Statements"
   ]
  },
  {
   "cell_type": "code",
   "execution_count": 15,
   "id": "7c6f5e42",
   "metadata": {},
   "outputs": [
    {
     "name": "stdout",
     "output_type": "stream",
     "text": [
      "Enter a Number50\n",
      "in\n"
     ]
    }
   ],
   "source": [
    "#To find a Value will available in b to c Range \n",
    "\n",
    "a=int(input(\"Enter a Number\"))\n",
    "b=10\n",
    "c=100\n",
    "if(a in range(b,c)):\n",
    "    print(\"in\")\n",
    "else:\n",
    "    print(\"out\")"
   ]
  },
  {
   "cell_type": "code",
   "execution_count": null,
   "id": "f738f51b",
   "metadata": {},
   "outputs": [],
   "source": []
  },
  {
   "cell_type": "code",
   "execution_count": 2,
   "id": "07be25d2",
   "metadata": {},
   "outputs": [
    {
     "name": "stdout",
     "output_type": "stream",
     "text": [
      "enter value-10\n",
      "negative\n"
     ]
    }
   ],
   "source": [
    "#TO FIND ENTER VALUE IS POSITIVE OR NEGATIVE\n",
    "\n",
    "a=int(input(\"enter value\"))\n",
    "if(a>0):\n",
    "    print(\"positive\")\n",
    "else:\n",
    "    print(\"negative\")"
   ]
  },
  {
   "cell_type": "code",
   "execution_count": 3,
   "id": "94c7db3b",
   "metadata": {},
   "outputs": [
    {
     "name": "stdout",
     "output_type": "stream",
     "text": [
      "ENter a value15\n",
      "odd\n"
     ]
    }
   ],
   "source": [
    "#TO FIND ENTER VALUE IS EVEN OR ODD\n",
    "\n",
    "a=int(input(\"ENter a value\"))\n",
    "if a%2==0:\n",
    "    print(\"even\")\n",
    "elif a%2==1:\n",
    "    print(\"odd\")"
   ]
  },
  {
   "cell_type": "code",
   "execution_count": 4,
   "id": "6bd07364",
   "metadata": {},
   "outputs": [
    {
     "name": "stdout",
     "output_type": "stream",
     "text": [
      "enter a Value500\n",
      "a is greater than 0\n"
     ]
    }
   ],
   "source": [
    "#TO FIND ENTER VALUE IS greater OR lessthat Zero\n",
    "\n",
    "a=int(input(\"enter a Value\"))\n",
    "if a>0:\n",
    "    print(\"a is greater than 0\")\n",
    "elif a<0:\n",
    "    print(\"a lessthan zero\")"
   ]
  },
  {
   "cell_type": "code",
   "execution_count": 5,
   "id": "eb320049",
   "metadata": {},
   "outputs": [
    {
     "name": "stdout",
     "output_type": "stream",
     "text": [
      "enter a value10\n",
      "enter b value20\n",
      "enter c value30\n",
      "30 is biggest of 10 20\n"
     ]
    }
   ],
   "source": [
    "# largest of three numbers with two conditions\n",
    "#Below i will enter three Numbers I Need to find which is Highest rathar than two numbers\n",
    "\n",
    "\n",
    "a=int(input(\"enter a value\"))\n",
    "b=int(input(\"enter b value\"))\n",
    "c=int(input(\"enter c value\"))\n",
    "if a>b and a>c:\n",
    "    print(a ,\"is biggest of\" ,b,c)\n",
    "elif b>a and b>c:\n",
    "     print(b, \"is biggest of\",a,c)\n",
    "else:\n",
    "    print(c ,\"is biggest of\",a,b)\n"
   ]
  },
  {
   "cell_type": "code",
   "execution_count": 6,
   "id": "0c1ff30e",
   "metadata": {},
   "outputs": [
    {
     "name": "stdout",
     "output_type": "stream",
     "text": [
      "Enter a Value17\n",
      "Prime\n"
     ]
    }
   ],
   "source": [
    "# To find given value is Prime number or not \n",
    "\n",
    "a=int(input(\"Enter a Value\"))\n",
    "for b in range(2,a):\n",
    "    count=0\n",
    "    if a%b==0:\n",
    "        print(\"non Prime\")\n",
    "        break\n",
    "else:\n",
    "    print(\"Prime\")"
   ]
  },
  {
   "cell_type": "code",
   "execution_count": 8,
   "id": "08f8b7ca",
   "metadata": {},
   "outputs": [
    {
     "name": "stdout",
     "output_type": "stream",
     "text": [
      "Enter a Number34\n",
      "fail\n"
     ]
    }
   ],
   "source": [
    "#Grading with input Number\n",
    "\n",
    "a=int(input(\"Enter a Number\"))\n",
    "if a in range(75,100):\n",
    "    print(\"A Grade\")\n",
    "elif a in range(50,75):\n",
    "    print(\"B Grade\")\n",
    "elif a in range(35,75):\n",
    "    print(\"C Garde\")\n",
    "else:\n",
    "    print(\"fail\")"
   ]
  },
  {
   "cell_type": "code",
   "execution_count": 1,
   "id": "9d2b6b56",
   "metadata": {},
   "outputs": [
    {
     "name": "stdout",
     "output_type": "stream",
     "text": [
      "1 is odd\n",
      "2 is even\n",
      "3 is odd\n",
      "4 is even\n",
      "5 is odd\n",
      "6 is even\n",
      "7 is odd\n",
      "8 is even\n",
      "9 is odd\n",
      "10 is even\n",
      "11 is odd\n",
      "12 is even\n",
      "13 is odd\n",
      "14 is even\n"
     ]
    }
   ],
   "source": [
    "#Print Number with even or Odd\n",
    "for i in range(1,15):\n",
    "    if i%2==0:\n",
    "         print(i,\"is even\")\n",
    "    else:\n",
    "        print(i,\"is odd\")"
   ]
  },
  {
   "cell_type": "code",
   "execution_count": 16,
   "id": "23a632e5",
   "metadata": {},
   "outputs": [
    {
     "name": "stdout",
     "output_type": "stream",
     "text": [
      "enter sub1 Marks10\n",
      "enter sub2 marks10\n",
      "enter sub3 marks01\n",
      "fail\n"
     ]
    }
   ],
   "source": [
    "#We have three subjects we need to find the Avg Score based on that we need to provide the Grading to the Student.\n",
    "sub1 = float(input(\"enter sub1 Marks\"))\n",
    "sub2 = float(input(\"enter sub2 marks\"))\n",
    "sub3 = float(input(\"enter sub3 marks\"))\n",
    "avg_marks= (sub1+sub2+sub3)/3\n",
    "if avg_marks>=90:\n",
    "    print(\"First Class\")\n",
    "elif avg_marks>=70:\n",
    "    print(\"B grade\")\n",
    "elif avg_marks>=35:\n",
    "    print(\"C Grade\")\n",
    "else:\n",
    "    print(\"fail\")"
   ]
  },
  {
   "cell_type": "code",
   "execution_count": 13,
   "id": "97579da4",
   "metadata": {},
   "outputs": [
    {
     "name": "stdout",
     "output_type": "stream",
     "text": [
      "Enter Maths Score30\n",
      "enter English Score50\n",
      "B Grade\n"
     ]
    }
   ],
   "source": [
    "#Nested If\n",
    "#We have two sub Maths and English, if a student 90 Marks then A grade, 35-70 Bgrade else fail in English, \n",
    "#But for Maths if he get 70 Marks A grade, 25-70 Bgrade else fail.\n",
    "sub1=\"Maths\"\n",
    "Sub2=\"English\"\n",
    "Maths_Score=int(input(\"Enter Maths Score\"))\n",
    "English_Score = int(input(\"enter English Score\"))\n",
    "if sub1==\"Maths\":\n",
    "    if Maths_Score>=70:\n",
    "        print(\"A Grade\")\n",
    "    elif Maths_Score>=25:\n",
    "        print(\"B Grade\")\n",
    "    else:\n",
    "        print(\"fail\")\n",
    "elif sub2==\"English\":\n",
    "    if English_Score>=90:\n",
    "        print(\"A Grade\")\n",
    "    elif English_Score>=35:\n",
    "        print(\"B Grade\")\n",
    "    else:\n",
    "        Print(\"fail\")\n",
    "else:\n",
    "    print(\"Abscent for Exam\")"
   ]
  },
  {
   "cell_type": "code",
   "execution_count": 14,
   "id": "896874b4",
   "metadata": {},
   "outputs": [
    {
     "name": "stdout",
     "output_type": "stream",
     "text": [
      "Enter a number0\n",
      "its Zero\n"
     ]
    }
   ],
   "source": [
    "#Nested IF\n",
    "num = int(input(\"Enter a number\"))\n",
    "if num >=0:\n",
    "    if num == 0:\n",
    "        print(\"its Zero\")\n",
    "    else:\n",
    "        print(\"positive\")\n",
    "else:\n",
    "    print(\"Negative\")"
   ]
  }
 ],
 "metadata": {
  "kernelspec": {
   "display_name": "Python 3 (ipykernel)",
   "language": "python",
   "name": "python3"
  },
  "language_info": {
   "codemirror_mode": {
    "name": "ipython",
    "version": 3
   },
   "file_extension": ".py",
   "mimetype": "text/x-python",
   "name": "python",
   "nbconvert_exporter": "python",
   "pygments_lexer": "ipython3",
   "version": "3.10.9"
  }
 },
 "nbformat": 4,
 "nbformat_minor": 5
}
